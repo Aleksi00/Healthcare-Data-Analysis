{
 "cells": [
  {
   "cell_type": "code",
   "execution_count": null,
   "id": "807542a5-6829-4c85-80e6-94c8ff5bcc26",
   "metadata": {},
   "outputs": [],
   "source": [
    "# 4. Machine learning classifiers examples in healthcare"
   ]
  },
  {
   "cell_type": "code",
   "execution_count": 68,
   "id": "bf9ef5c3-3ca9-4b92-a136-4081fc63060d",
   "metadata": {},
   "outputs": [],
   "source": [
    "# 1. Exploratory data analysis\n",
    "\n",
    "# 1.1 Reading dataset\n",
    "import numpy as np\n",
    "import pandas as pd\n",
    "import matplotlib.pyplot as plt\n",
    "import seaborn as sns\n",
    "colnames = ['Pregnancies','Glucose','BloodPressure','SkinThickness','Insulin','BMI','DiabetesPedigreeFunction','Age','Outcome']\n",
    "df = pd.read_csv('diabetes.csv', skiprows = 1, header = None, names = colnames)\n",
    "#Dataset contains different measures and based on them, patient suffers from diabetes or not.\n",
    "#With seaborn.boxplot we can plot different variables and see how the variable is distributed.\n",
    "#Interpreting plots we can predict whether a patient has a diabetes or not.\n",
    "#Plotting many variables same time interpreting becomes easier, since we can study how the\n",
    "#variables are connected to each other. For instance, if patient has a high blood pressure, has a high BMI-index\n",
    "#and glucose levels are high, we can estimate that he/she might have diabetes."
   ]
  },
  {
   "cell_type": "code",
   "execution_count": 69,
   "id": "fdea3896-c2ad-43b5-b470-b12f7999ff3e",
   "metadata": {},
   "outputs": [
    {
     "name": "stdout",
     "output_type": "stream",
     "text": [
      "Number of patients that do not suffer from diabetes: 500\n",
      "Number of patients that suffer from diabetes: 268\n"
     ]
    }
   ],
   "source": [
    "# 1.2 Target feature's value distribution\n",
    "df_outcome = df['Outcome']\n",
    "outcome_val = df_outcome.value_counts()\n",
    "print('Number of patients that do not suffer from diabetes:', outcome_val[0])\n",
    "print('Number of patients that suffer from diabetes:', outcome_val[1])\n",
    "#Target feature ('Outcome': Patient suffers from diabetes (1) or not (0)). \n",
    "# From the 768 instances, 268 has a diabetes and 500 don't."
   ]
  },
  {
   "cell_type": "code",
   "execution_count": 70,
   "id": "5193cc0c-ab90-46cd-97ee-9d110b723ec5",
   "metadata": {},
   "outputs": [
    {
     "data": {
      "image/png": "[encoded data removed]",
      "text/plain": [
       "<Figure size 640x480 with 1 Axes>"
      ]
     },
     "metadata": {},
     "output_type": "display_data"
    }
   ],
   "source": [
    "# 1.3 Revealing outliers\n",
    "#df_pregnancies = sns.boxplot(x = df['Pregnancies'])\n",
    "#df_glucose = sns.boxplot(x = df['Glucose'])\n",
    "#df_bp = sns.boxplot(x = df['BloodPressure'])\n",
    "#df_st = sns.boxplot(x = df['SkinThickness'])\n",
    "#df_insulin = sns.boxplot(x = df['Insulin'])\n",
    "df_bmi = sns.boxplot(x = df['BMI'])\n",
    "#df_dpf = sns.boxplot(x = df['DiabetesPedigreeFunction'])\n",
    "#df_age = sns.boxplot(x = df['Age'])\n",
    "\n",
    "#With seaborn.boxplot we can reveal variable outliers. Plot shows distribution of the variable and\n",
    "#so we can detect deviations. For example BMI boxplot below shows the distribution. We can see\n",
    "#that some patients have very low BMI (under 20) and some have very high BMI (over 45).\n",
    "#those tailvalues represent the outliers of the BMI variable. Other variables/features have\n",
    "#also tailvalues."
   ]
  },
  {
   "cell_type": "code",
   "execution_count": null,
   "id": "4b4ca557-b8c1-4fd0-984a-3ca34980178e",
   "metadata": {},
   "outputs": [],
   "source": [
    "# 1.4 Feature scaling\n",
    "#We could use rescaling, in which new value is calculated via minimum and maximum of the feature \n",
    "#dataset. In addition, z-score calculations would help to scale features to 0-1 scale.\n",
    "#Logistic regression would be a good method for rescaling also."
   ]
  },
  {
   "cell_type": "code",
   "execution_count": 71,
   "id": "e16814df-6746-4ce6-b6c3-2b44c0a29dd9",
   "metadata": {},
   "outputs": [
    {
     "data": {
      "application/vnd.jupyter.widget-view+json": {
       "model_id": "",
       "version_major": 2,
       "version_minor": 0
      },
      "text/plain": [
       "  0%|          | 0/1676 [00:00<?, ?it/s]"
      ]
     },
     "metadata": {},
     "output_type": "display_data"
    },
    {
     "name": "stdout",
     "output_type": "stream",
     "text": [
      "Report has been saved to extensive_EDA.html!\n"
     ]
    }
   ],
   "source": [
    "# 2. Extensive EDA\n",
    "from dataprep.eda import create_report\n",
    "report = create_report(df)\n",
    "report.save('extensive_EDA')\n",
    "# 2.1\n",
    "#We can see from the generated extensive_EDA.html file that the report gives additional information\n",
    "#about every variable and shows how much memory it takes. Moreover, report gives statistics about \n",
    "#dataset and insights. Interesting is that the report is pretty comprehensive and detailed."
   ]
  },
  {
   "cell_type": "code",
   "execution_count": 151,
   "id": "a71d39da-2d9f-4de6-be35-6358be8f949f",
   "metadata": {},
   "outputs": [
    {
     "name": "stdout",
     "output_type": "stream",
     "text": [
      "(537, 8)\n",
      "(231, 8)\n",
      "(537,)\n",
      "(231,)\n",
      "0    150\n",
      "1     81\n",
      "Name: Outcome, dtype: int64\n"
     ]
    }
   ],
   "source": [
    "# 3. Building the classifier\n",
    "from sklearn.ensemble import RandomForestClassifier\n",
    "# 3.1 Splitting the dataset into training and testing set\n",
    "from sklearn.model_selection import train_test_split\n",
    "train, test = train_test_split(df, test_size=0.3, train_size = 0.7, random_state = 42, stratify = df['Outcome'])\n",
    "X_train = train.drop('Outcome',axis=1)\n",
    "y_train = train['Outcome'].copy()\n",
    "X_test = test.drop('Outcome',axis=1)\n",
    "y_test = test['Outcome'].copy()\n",
    "print(X_train.shape)\n",
    "print(X_test.shape)\n",
    "print(y_train.shape)\n",
    "print(y_test.shape)\n",
    "\n",
    "# 3.2 Stratification\n",
    "#In data-analysis stratification means that each set is represented equally.\n",
    "print(pd.value_counts(y_test)) #For instance, the y_test dataset contains roughly\n",
    "#equal amount of zeros and ones (150 and 81). It is important that datasets are\n",
    "#comparable and fair with equal amounts of data.\n",
    "\n",
    "# 3.3 Preprocessing X_train dataset\n",
    "from sklearn import preprocessing\n",
    "scaler = preprocessing.StandardScaler().fit(X_train, y_train)\n",
    "X_scaled = scaler.transform(X_train)\n",
    "#StandardScaler is good option to scale features to the same range. Another option \n",
    "#in scikit-learn function would be PCA or normalization."
   ]
  },
  {
   "cell_type": "code",
   "execution_count": 164,
   "id": "44210b59-a136-4b58-a8a6-b423b6a3f67d",
   "metadata": {},
   "outputs": [
    {
     "name": "stdout",
     "output_type": "stream",
     "text": [
      "Accurary of predictive model (Random Forest): 0.7489177489177489\n"
     ]
    }
   ],
   "source": [
    "# 3.4 Fitting pipeline with training set\n",
    "from sklearn.ensemble import RandomForestClassifier\n",
    "from sklearn.pipeline import Pipeline\n",
    "from sklearn.preprocessing import StandardScaler\n",
    "rf_clf = RandomForestClassifier(max_depth=5, n_estimators=100, min_samples_split=8,\n",
    "min_samples_leaf = 3, max_features= 'auto', bootstrap= True, random_state=42)\n",
    "std_scaler = StandardScaler()\n",
    "clf_pipe = Pipeline([('scaler', std_scaler), ('clf', rf_clf)])\n",
    "clf_pipe.fit(X_train, y_train)\n",
    "print('Accurary of predictive model (Random Forest):',clf_pipe.score(X_test, y_test))"
   ]
  },
  {
   "cell_type": "code",
   "execution_count": 189,
   "id": "a2d2d5e7-22db-4dcb-ac6b-ac3af085284f",
   "metadata": {},
   "outputs": [
    {
     "name": "stdout",
     "output_type": "stream",
     "text": [
      "Logistic regression model score: 0.7445887445887446\n",
      "Support vector machine model score: 0.7359307359307359\n",
      "Decision tree model score: 0.7619047619047619\n",
      "Adaptive boosting model score: 0.7402597402597403\n"
     ]
    },
    {
     "name": "stderr",
     "output_type": "stream",
     "text": [
      "/Users/aleksisormunen/opt/anaconda3/lib/python3.9/site-packages/sklearn/svm/_base.py:1206: ConvergenceWarning: Liblinear failed to converge, increase the number of iterations.\n",
      "  warnings.warn(\n"
     ]
    },
    {
     "name": "stdout",
     "output_type": "stream",
     "text": [
      "   mean_fit_time  std_fit_time  mean_score_time  std_score_time params  \\\n",
      "0       0.081384       0.01026         0.008941        0.000802     {}   \n",
      "\n",
      "   split0_test_score  split1_test_score  split2_test_score  split3_test_score  \\\n",
      "0           0.722222           0.787037           0.785047           0.728972   \n",
      "\n",
      "   split4_test_score  mean_test_score  std_test_score  rank_test_score  \n",
      "0           0.728972          0.75045        0.029172                1  \n"
     ]
    }
   ],
   "source": [
    "# 4. Comparing several classifiers\n",
    "#Logistic Regression\n",
    "from sklearn.linear_model import LogisticRegression\n",
    "lr_clf = LogisticRegression(random_state = 42)\n",
    "lr_clf_pipe = Pipeline([('scaler', std_scaler), ('clf', lr_clf)])\n",
    "lr_clf_pipe.fit(X_train, y_train)\n",
    "print('Logistic regression model score:',lr_clf_pipe.score(X_test,y_test))\n",
    "\n",
    "#Support vector machine (Linear Kernel) \n",
    "from sklearn.svm import LinearSVC\n",
    "svc_clf = LinearSVC(random_state = 42)\n",
    "svc_clf_pipe = Pipeline([('scaler', std_scaler), ('clf', svc_clf)])\n",
    "svc_clf_pipe.fit(X_train, y_train)\n",
    "print('Support vector machine model score:',svc_clf_pipe.score(X_test,y_test))\n",
    "\n",
    "#Decision tree\n",
    "from sklearn.tree import DecisionTreeClassifier\n",
    "dc_clf = DecisionTreeClassifier(random_state = 42)\n",
    "dc_clf_pipe = Pipeline([('scaler', std_scaler), ('clf', dc_clf)])\n",
    "dc_clf_pipe.fit(X_train, y_train)\n",
    "print('Decision tree model score:',dc_clf_pipe.score(X_test,y_test))\n",
    "\n",
    "#Adaptive boosting\n",
    "from sklearn.ensemble import AdaBoostClassifier\n",
    "ab_clf = AdaBoostClassifier(random_state = 42)\n",
    "ab_clf_pipe = Pipeline([('scaler', std_scaler), ('clf', ab_clf)])\n",
    "ab_clf_pipe.fit(X_train, y_train)\n",
    "print('Adaptive boosting model score:',ab_clf_pipe.score(X_test,y_test))\n",
    "\n",
    "from sklearn.model_selection import GridSearchCV\n",
    "parameters = {}\n",
    "grid = GridSearchCV(estimator = ab_clf, param_grid = parameters, cv=5)\n",
    "grid.fit(X_train, y_train)\n",
    "df_results = pd.DataFrame(grid.cv_results_)\n",
    "print(df_results)\n",
    "# 4.1\n",
    "#We can see that decision tree model score is the most accurate model.\n",
    "#Logistic regression is close to random forest model accurary."
   ]
  },
  {
   "cell_type": "code",
   "execution_count": 193,
   "id": "98adc501-d1dd-40dd-bbaf-f2bf8f9281d3",
   "metadata": {},
   "outputs": [
    {
     "name": "stdout",
     "output_type": "stream",
     "text": [
      "   mean_fit_time  std_fit_time  mean_score_time  std_score_time params  \\\n",
      "0       0.081384       0.01026         0.008941        0.000802     {}   \n",
      "\n",
      "   split0_test_score  split1_test_score  split2_test_score  split3_test_score  \\\n",
      "0           0.722222           0.787037           0.785047           0.728972   \n",
      "\n",
      "   split4_test_score  mean_test_score  std_test_score  rank_test_score  \n",
      "0           0.728972          0.75045        0.029172                1  \n"
     ]
    }
   ],
   "source": [
    "# 5. Bonus\n",
    "from openpyxl import Workbook\n",
    "df_results_new_df = pd.DataFrame(df_results)\n",
    "print(df_results_new_df)\n",
    "df_results_new_df.to_excel(r'df_results_bonus.xlsx', index=False, engine = 'openpyxl')"
   ]
  },
  {
   "cell_type": "code",
   "execution_count": null,
   "id": "9645d7e9-3b35-48ca-ad12-a1576fc5ac58",
   "metadata": {},
   "outputs": [],
   "source": []
  }
 ],
 "metadata": {
  "kernelspec": {
   "display_name": "Python 3 (ipykernel)",
   "language": "python",
   "name": "python3"
  },
  "language_info": {
   "codemirror_mode": {
    "name": "ipython",
    "version": 3
   },
   "file_extension": ".py",
   "mimetype": "text/x-python",
   "name": "python",
   "nbconvert_exporter": "python",
   "pygments_lexer": "ipython3",
   "version": "3.9.13"
  }
 },
 "nbformat": 4,
 "nbformat_minor": 5
}
