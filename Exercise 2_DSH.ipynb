{
 "cells": [
  {
   "cell_type": "code",
   "execution_count": null,
   "id": "cd051e82-5a79-4724-af58-ad93c2a040df",
   "metadata": {},
   "outputs": [],
   "source": [
    "# Exercise 2 Rule-based and data-driven examples"
   ]
  },
  {
   "cell_type": "code",
   "execution_count": 1,
   "id": "a44455d5-1d84-4e8f-888a-6cc99bd7bf14",
   "metadata": {},
   "outputs": [
    {
     "name": "stderr",
     "output_type": "stream",
     "text": [
      "/var/folders/fg/6kftvk5d3jl2j5jb97hqg0000000gn/T/ipykernel_67666/306976114.py:5: ParserWarning: Length of header or names does not match length of data. This leads to a loss of data with index_col=False.\n",
      "  df1 = pd.read_csv(\"annotation1.AN1\", sep = \",\", names = colnames_1, engine = \"python\", index_col = False, skiprows = 2)\n",
      "/var/folders/fg/6kftvk5d3jl2j5jb97hqg0000000gn/T/ipykernel_67666/306976114.py:6: ParserWarning: Length of header or names does not match length of data. This leads to a loss of data with index_col=False.\n",
      "  df2 = pd.read_csv(\"annotation2.AN2\", sep = \",\", names = colnames_1, engine = \"python\", index_col = False, skiprows = 2)\n"
     ]
    }
   ],
   "source": [
    "# 1. In this task we need to download annotation files and info file.\n",
    "import pandas as pd\n",
    "colnames_1 = ['Time','Vtype','Variable','Value','Status']\n",
    "colnames_2 = ['Fs','Start_date','Start_time','Label','Dimension','Coef1','Coef2','Coef3','Coef4','Nmb_chans','N']\n",
    "df1 = pd.read_csv(\"annotation1.AN1\", sep = \",\", names = colnames_1, engine = \"python\", index_col = False, skiprows = 2)\n",
    "df2 = pd.read_csv(\"annotation2.AN2\", sep = \",\", names = colnames_1, engine = \"python\", index_col = False, skiprows = 2)\n",
    "info = pd.read_csv(\"info.txt\", sep = \",\", engine = \"python\", index_col = False, names = colnames_2)\n",
    "# There is different variable types (automatic and manual), values and statuses in annotation files.\n",
    "# The info file consist of times, dimensions, coefficients, etc.\n",
    "# Data is collected with monitoring, computing and observing."
   ]
  },
  {
   "cell_type": "code",
   "execution_count": 2,
   "id": "a0570e49-718a-42a6-8cff-d75055d85b73",
   "metadata": {},
   "outputs": [
    {
     "name": "stdout",
     "output_type": "stream",
     "text": [
      "Amount of cardiac index instances in the dataset 26\n",
      "Amount of peripheral temperature instances in the dataset 699\n",
      "Amount of pulmonary capillary wedge pressure instances in the dataset 25\n"
     ]
    }
   ],
   "source": [
    "# 2. Finding different variables from AN1-file.\n",
    "# a)\n",
    "import numpy as np\n",
    "ci = df1.loc[df1['Variable'] == 30001000]\n",
    "ci_instances = np.shape(ci)\n",
    "print(\"Amount of cardiac index instances in the dataset\" ,ci_instances[0])\n",
    "# b)\n",
    "tp = df1.loc[df1['Variable'] == 400]\n",
    "tp_instances = np.shape(tp)\n",
    "print(\"Amount of peripheral temperature instances in the dataset\" ,tp_instances[0])\n",
    "# c)\n",
    "pcwp = df1.loc[df1['Variable'] == 800]\n",
    "pcwp_instances = np.shape(pcwp)\n",
    "print(\"Amount of pulmonary capillary wedge pressure instances in the dataset\" ,pcwp_instances[0])"
   ]
  },
  {
   "cell_type": "code",
   "execution_count": 3,
   "id": "b5332113-829f-44f0-97c4-7ad06c463727",
   "metadata": {},
   "outputs": [
    {
     "name": "stdout",
     "output_type": "stream",
     "text": [
      "Cardiac failure cases: 216\n",
      "0      1995-10-09 00:10:58\n",
      "1      1995-10-09 10:00:58\n",
      "2      1995-10-09 10:01:03\n",
      "3      1995-10-09 10:01:03\n",
      "4      1995-10-09 10:01:03\n",
      "               ...        \n",
      "9990   1995-10-10 09:59:30\n",
      "9991   1995-10-10 09:59:30\n",
      "9992   1995-10-10 09:59:30\n",
      "9993   1995-10-10 09:59:30\n",
      "9994   1995-10-10 09:59:30\n",
      "Name: Time, Length: 9995, dtype: datetime64[ns]\n"
     ]
    }
   ],
   "source": [
    "# 3. Creating a rule-based function\n",
    "conc_df = pd.concat([ci, tp, pcwp], axis = 0, ignore_index = True)\n",
    "cd_lst = []\n",
    "for i in conc_df.index:\n",
    "    if conc_df['Variable'][i] == 30001000 and conc_df['Value'][i] < 2.0:\n",
    "        cd_lst.append(1)\n",
    "    elif conc_df['Variable'][i] == 400 and conc_df['Value'][i] < 32.5:\n",
    "        cd_lst.append(1)\n",
    "    elif conc_df['Variable'][i] == 800 and conc_df['Value'][i] > 10:\n",
    "        cd_lst.append(1)\n",
    "    else:\n",
    "        cd_lst.append(0)\n",
    "print('Cardiac failure cases:',cd_lst.count(1))\n",
    "\n",
    "# Making the time vector\n",
    "date_time_str = str(info['Start_date'][0][3:5]+ info['Start_date'][0][6:8]) # This gives from info the month and year.\n",
    "time_vector = date_time_str + df1['Time'].astype(str) # Then concanating month and year to day, hour, minute, second.\n",
    "time_vector = pd.to_datetime(time_vector, format='%m%y%d%H%M%S')\n",
    "print(time_vector)"
   ]
  },
  {
   "cell_type": "code",
   "execution_count": 29,
   "id": "a28bd525-108e-4650-bcd1-3d77765cdd37",
   "metadata": {},
   "outputs": [
    {
     "name": "stderr",
     "output_type": "stream",
     "text": [
      "/var/folders/fg/6kftvk5d3jl2j5jb97hqg0000000gn/T/ipykernel_67666/692819014.py:4: ParserWarning: Length of header or names does not match length of data. This leads to a loss of data with index_col=False.\n",
      "  df2 = pd.read_csv(\"annotation2.AN2\", sep = \",\", names = colnames_1, engine = \"python\", index_col = False, skiprows = 2)\n"
     ]
    },
    {
     "data": {
      "text/plain": [
       "[<matplotlib.lines.Line2D at 0x7f9578331a90>]"
      ]
     },
     "execution_count": 29,
     "metadata": {},
     "output_type": "execute_result"
    },
    {
     "data": {
      "image/png": "[encoded data removed]",
      "text/plain": [
       "<Figure size 640x480 with 1 Axes>"
      ]
     },
     "metadata": {},
     "output_type": "display_data"
    }
   ],
   "source": [
    "# 4. \n",
    "import matplotlib.dates as mdates\n",
    "import matplotlib.pyplot as plt\n",
    "df2 = pd.read_csv(\"annotation2.AN2\", sep = \",\", names = colnames_1, engine = \"python\", index_col = False, skiprows = 2)\n",
    "time_vector = mdates.DateFormatter('%H:%M')\n",
    "figure = plt.figure()\n",
    "axes = figure.add_subplot(1, 1, 1)\n",
    "axes.xaxis.set_major_formatter(time_vector)\n",
    "plt.plot(cd_lst)"
   ]
  },
  {
   "cell_type": "code",
   "execution_count": null,
   "id": "79c0681e-8a9c-45c7-9a81-b995629819a4",
   "metadata": {},
   "outputs": [],
   "source": []
  }
 ],
 "metadata": {
  "kernelspec": {
   "display_name": "Python 3 (ipykernel)",
   "language": "python",
   "name": "python3"
  },
  "language_info": {
   "codemirror_mode": {
    "name": "ipython",
    "version": 3
   },
   "file_extension": ".py",
   "mimetype": "text/x-python",
   "name": "python",
   "nbconvert_exporter": "python",
   "pygments_lexer": "ipython3",
   "version": "3.9.13"
  }
 },
 "nbformat": 4,
 "nbformat_minor": 5
}
